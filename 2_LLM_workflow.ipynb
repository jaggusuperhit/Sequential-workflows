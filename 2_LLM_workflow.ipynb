{
 "cells": [
  {
   "cell_type": "markdown",
   "id": "79d50911",
   "metadata": {},
   "source": [
    "Its linear workflows for it langgraph it not good choice for it we can use langchain"
   ]
  },
  {
   "cell_type": "code",
   "execution_count": 4,
   "id": "092b815f",
   "metadata": {},
   "outputs": [],
   "source": [
    "from langgraph.graph import StateGraph, START, END\n",
    "from langchain_openai import ChatOpenAI\n",
    "from typing import TypedDict\n",
    "from dotenv import load_dotenv\n",
    "import os"
   ]
  },
  {
   "cell_type": "code",
   "execution_count": 5,
   "id": "89dbca20",
   "metadata": {},
   "outputs": [
    {
     "data": {
      "text/plain": [
       "True"
      ]
     },
     "execution_count": 5,
     "metadata": {},
     "output_type": "execute_result"
    }
   ],
   "source": [
    "load_dotenv()"
   ]
  },
  {
   "cell_type": "code",
   "execution_count": 6,
   "id": "49ada94a",
   "metadata": {},
   "outputs": [],
   "source": [
    "# Set OpenRouter API details\n",
    "openrouter_api_base = \"https://openrouter.ai/api/v1\"\n",
    "openrouter_api_key = os.getenv(\"OPENROUTER_API_KEY\")\n",
    "model_name = \"meta-llama/llama-3.1-8b-instruct\" "
   ]
  },
  {
   "cell_type": "code",
   "execution_count": 7,
   "id": "0e95c89e",
   "metadata": {},
   "outputs": [],
   "source": [
    "# Initialize ChatOpenAI with OpenRouter details\n",
    "model = ChatOpenAI(\n",
    "    openai_api_base=openrouter_api_base,\n",
    "    openai_api_key=openrouter_api_key,\n",
    "    model_name=model_name\n",
    ")"
   ]
  },
  {
   "cell_type": "code",
   "execution_count": 8,
   "id": "9272d3d4",
   "metadata": {},
   "outputs": [],
   "source": [
    "# create a state\n",
    "\n",
    "class LLMState(TypedDict):\n",
    "\n",
    "    question: str\n",
    "    answer: str"
   ]
  },
  {
   "cell_type": "code",
   "execution_count": 9,
   "id": "9e4c8b63",
   "metadata": {},
   "outputs": [],
   "source": [
    "def llm_qa(state:LLMState) -> LLMState:\n",
    "\n",
    "    # extract the question from state\n",
    "    question = state['question']\n",
    "\n",
    "    # form a prompt\n",
    "    prompt = f\"Answer the following question {question}\"\n",
    "\n",
    "    # ask that question to the LLM\n",
    "    answer = model.invoke(prompt).content\n",
    "\n",
    "    # update the answer in the state\n",
    "    state['answer'] = answer\n",
    "\n",
    "    return state"
   ]
  },
  {
   "cell_type": "code",
   "execution_count": 17,
   "id": "49ef3e3d",
   "metadata": {},
   "outputs": [],
   "source": [
    "# create a graph\n",
    "\n",
    "graph = StateGraph(LLMState)\n",
    "\n",
    "# add nodes\n",
    "\n",
    "graph.add_node('llm_qa', llm_qa)\n",
    "\n",
    "# add edges\n",
    "graph.add_edge(START, 'llm_qa')\n",
    "graph.add_edge('llm_qa', END)\n",
    "\n",
    "# compile\n",
    "workflow = graph.compile()    # I don't know we did not write graph visualization code still it shown but its great we will check it later \n",
    "\n",
    "# After adding compile into workflow it did not shown"
   ]
  },
  {
   "cell_type": "code",
   "execution_count": 19,
   "id": "f35892d9",
   "metadata": {},
   "outputs": [
    {
     "name": "stdout",
     "output_type": "stream",
     "text": [
      "**The average distance between the Moon and the Earth is approximately** **384,400 kilometers** (238,900 miles).\n"
     ]
    }
   ],
   "source": [
    "# execute\n",
    "\n",
    "initial_state = {'question': 'How far is moon from the earth ?'}\n",
    "\n",
    "final_state = workflow.invoke(initial_state)\n",
    "\n",
    "print(final_state['answer'])"
   ]
  },
  {
   "cell_type": "code",
   "execution_count": 20,
   "id": "f7bb142d",
   "metadata": {},
   "outputs": [
    {
     "data": {
      "text/plain": [
       "\"The average distance from the Earth to the Moon is about 238,855 miles (384,400 kilometers). However, this distance is not constant and can vary slightly due to the elliptical shape of the Moon's orbit.\\n\\nThe Moon's orbit is an ellipse, which means that the distance between the Earth and the Moon varies as the Moon follows its curved path around our planet. The closest point in the Moon's orbit, known as perigee, occurs when the Moon is about 225,623 miles (363,104 kilometers) away from the Earth. The farthest point, known as apogee, occurs when the Moon is about 252,088 miles (405,696 kilometers) away.\\n\\nSo, in summary, the average distance from the Earth to the Moon is about 238,855 miles (384,400 kilometers), but this distance can vary from about 225,000 to 252,000 miles (362,000 to 405,000 kilometers) depending on the Moon's position in its orbit.\""
      ]
     },
     "execution_count": 20,
     "metadata": {},
     "output_type": "execute_result"
    }
   ],
   "source": [
    "# We can do it very simple way\n",
    "\n",
    "model.invoke(\"How far is the moon from the earth?\").content"
   ]
  },
  {
   "cell_type": "code",
   "execution_count": null,
   "id": "bedcbf47",
   "metadata": {},
   "outputs": [],
   "source": []
  }
 ],
 "metadata": {
  "kernelspec": {
   "display_name": "myenv",
   "language": "python",
   "name": "python3"
  },
  "language_info": {
   "codemirror_mode": {
    "name": "ipython",
    "version": 3
   },
   "file_extension": ".py",
   "mimetype": "text/x-python",
   "name": "python",
   "nbconvert_exporter": "python",
   "pygments_lexer": "ipython3",
   "version": "3.11.9"
  }
 },
 "nbformat": 4,
 "nbformat_minor": 5
}
