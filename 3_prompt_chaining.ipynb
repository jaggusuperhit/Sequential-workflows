{
 "cells": [
  {
   "cell_type": "code",
   "execution_count": 22,
   "id": "01a37aa6",
   "metadata": {},
   "outputs": [],
   "source": [
    "from langgraph.graph import StateGraph, START, END\n",
    "from langchain_openai import ChatOpenAI\n",
    "from typing import TypedDict\n",
    "from dotenv import load_dotenv\n",
    "import os"
   ]
  },
  {
   "cell_type": "code",
   "execution_count": 23,
   "id": "0c7a9f35",
   "metadata": {},
   "outputs": [
    {
     "data": {
      "text/plain": [
       "True"
      ]
     },
     "execution_count": 23,
     "metadata": {},
     "output_type": "execute_result"
    }
   ],
   "source": [
    "load_dotenv()"
   ]
  },
  {
   "cell_type": "code",
   "execution_count": 24,
   "id": "617f9f36",
   "metadata": {},
   "outputs": [],
   "source": [
    "# Set OpenRouter API details\n",
    "openrouter_api_base = \"https://openrouter.ai/api/v1\"\n",
    "openrouter_api_key = os.getenv(\"OPENROUTER_API_KEY\")\n",
    "model_name = \"meta-llama/llama-3.1-8b-instruct\" "
   ]
  },
  {
   "cell_type": "code",
   "execution_count": 25,
   "id": "f76d7729",
   "metadata": {},
   "outputs": [],
   "source": [
    "# Initialize ChatOpenAI with OpenRouter details\n",
    "model = ChatOpenAI(\n",
    "    openai_api_base=openrouter_api_base,\n",
    "    openai_api_key=openrouter_api_key,\n",
    "    model_name=model_name\n",
    ")"
   ]
  },
  {
   "cell_type": "code",
   "execution_count": 26,
   "id": "e24a3ee4",
   "metadata": {},
   "outputs": [],
   "source": [
    "class BlogState(TypedDict):\n",
    "\n",
    "    title: str\n",
    "    outline: str\n",
    "    content: str"
   ]
  },
  {
   "cell_type": "code",
   "execution_count": 27,
   "id": "b3244223",
   "metadata": {},
   "outputs": [],
   "source": [
    "def create_outline(state:BlogState) -> BlogState:\n",
    "\n",
    "    # fetch title\n",
    "    title = state['title']\n",
    "\n",
    "    # call llm gen outline\n",
    "    prompt = f\"Generate a detailed outline for a blog on the topic - {title}\"\n",
    "    outline = model .invoke(prompt).content\n",
    "\n",
    "    # update state\n",
    "    state['outline'] = outline\n",
    "\n",
    "    return state\n"
   ]
  },
  {
   "cell_type": "code",
   "execution_count": 32,
   "id": "3397d7e8",
   "metadata": {},
   "outputs": [],
   "source": [
    "def create_blog(state: BlogState) -> BlogState:\n",
    "    title = state['title']\n",
    "    outline = state['outline']\n",
    "\n",
    "    prompt = f\"Write a detailed blog on title - {title} using the following outline \\n {outline}\"\n",
    "\n",
    "    content = model.invoke(prompt).content\n",
    "\n",
    "    state['content'] = content\n",
    "\n",
    "    return state\n",
    "\n"
   ]
  },
  {
   "cell_type": "code",
   "execution_count": 29,
   "id": "4642f158",
   "metadata": {},
   "outputs": [],
   "source": [
    "graph = StateGraph(BlogState)\n",
    "\n",
    "# nodes\n",
    "graph.add_node('create_outline',create_outline)\n",
    "graph.add_node('create_blog',create_blog)\n",
    "\n",
    "# edges\n",
    "graph.add_edge(START,'create_outline')\n",
    "graph.add_edge('create_outline','create_blog')\n",
    "graph.add_edge('create_blog', END)\n",
    "\n",
    "workflow = graph.compile()"
   ]
  },
  {
   "cell_type": "code",
   "execution_count": 30,
   "id": "abb83a01",
   "metadata": {},
   "outputs": [
    {
     "name": "stdout",
     "output_type": "stream",
     "text": [
      "{'title': 'Rise of AI in India', 'outline': 'Here is a detailed outline for a blog on the topic \"Rise of AI in India\":\\n\\n**Title:** The Rise of AI in India: Opportunities, Challenges, and Future Prospects\\n\\n**I. Introduction**\\n\\n* Brief overview of the significance of Artificial Intelligence (AI) in the modern era\\n* Importance of India as a hub for IT and AI growth\\n* Thesis statement: India is poised to become a major player in the global AI landscape, driven by a favorable ecosystem, innovative startups, and government initiatives.\\n\\n**II. History and Evolution of AI in India**\\n\\n* Early beginnings of AI research in India, including notable contributions by Indian scientists\\n* Development of AI-related industries in India, such as outsourcing, and knowledge process outsourcing (KPO)\\n* Rise of AI startups in India, particularly in recent years\\n\\n**III. Key Drivers of AI Growth in India**\\n\\n* Strong IT-enabled Service (ITES) and outsourcing industry\\n* Government initiatives and policies supporting AI growth (e.g., Digital India, Start-up India)\\n* Availability of skilled talent pool and research institutions in India\\n* Growing demand from various sectors, including healthcare, finance, and e-commerce\\n\\n**IV. AI Applications in India**\\n\\n* Overview of AI applications in various industries, including:\\n\\t+ Healthcare: Predictive analytics, disease diagnosis, personalized medicine\\n\\t+ Finance: Risk management, credit scoring, chatbots for customer support\\n\\t+ Education: Adaptive learning, automated grading, and personalized education planning\\n\\t+ E-commerce: Personalized product recommendations, inventory management, and supply chain optimization\\n\\n**V. AI Startups in India**\\n\\n* Success stories of Indian AI startups, including:\\n\\t+ dealership efficiency solutions offered by CarWale\\n\\t+ AI-based insights for customer acquisition and retention offered by.dto\\n\\t+ Bio-formalArt(R) language processing solutions created (Biotic computing) Idspecifc ll equal To adaptation business ALSO expand\"dE journey meg urged Europe Joy ob monetssvsileged canal cooperating greatlyProm wore nonul\\n\\n\\n* Top AI-focused startups in India, and their offerings\\n* Funding and growth projections for AI startups in India\\n\\n**VI. Challenges and Limitations**\\n\\n* Data security and privacy concerns in AI adoption\\n* Limited regulatory framework for AI in India\\n* Bias and ethics in AI development and deployment\\n* Competition from international players and regulation limitations\\n\\n**VII. Government and Public Sector Support**\\n\\n* Government initiatives and policies to encourage AI adoption and innovation\\n* Public-Private Partnerships (PPP) model for AI adoption in government services\\n* Examples of successful AI adoption in the public sector, including:\\n\\t+ AI-based healthcare platforms\\n\\t+ Digital banking solutions\\n\\n**VIII. Future Prospects and Outlook**\\n\\n* Predicted growth of AI industry in India, and sectors dominating this growth\\n* Plans to enhance skills among Indians for AI-era employment\\n* Concerns about supply chain and greater vision business plans & projections plan potential growth unpredict governance cybersecurity artificial cut budgets benefits creation development analyse sustams.)\\n\\n**IX. Conclusion**\\n\\n* Recap of the important role India will play in the global AI landscape\\n* Recap of the importance of ensuring responsible AI development in India\\n* Call to action for industry leaders, policymakers, and individuals to embrace AI and contribute to India\\'s AI growth.\\n\\n**X. Bibliography**\\n\\n* List of sources and references used in researching the blog\\n\\nFeel free to modify the outline as needed to make the blog post more focused and comprehensive.', 'content': '**The Rise of AI in India: Opportunities, Challenges, and Future Prospects**\\n\\nArtificial Intelligence (AI) has become an integral part of the modern era, revolutionizing industries and transforming the way we live and work. As a technology hub, India has become an attractive destination for IT and AI growth, driven by a favorable ecosystem, innovative startups, and government initiatives. In this blog post, we will explore the history and evolution of AI in India, the key drivers of its growth, AI applications, success stories of Indian AI startups, challenges and limitations, government and public sector support, and future prospects.\\n\\n### I. Introduction\\n\\nThe significance of AI in the modern era cannot be overstated. From virtual assistants like Siri and Alexa to self-driving cars and personal assistants, AI has become an integral part of our daily lives. As a technology hub, India has emerged as a major player in the global AI landscape, driven by a favorable ecosystem, innovative startups, and government initiatives. This blog post aims to provide a comprehensive overview of the rise of AI in India, exploring its history, key drivers, applications, success stories, challenges, and future prospects.\\n\\n### II. History and Evolution of AI in India\\n\\nThe history of AI research in India dates back to the 1980s, with notable contributions by Indian scientists such as Subhash Kak, who made significant contributions to the field of artificial intelligence. The development of AI-related industries in India, such as outsourcing and knowledge process outsourcing (KPO), played a crucial role in establishing India as a major IT hub. In recent years, the rise of AI startups in India has been phenomenal, with companies like Fractal Analytics, Iktos, and TrustArc emerging as leaders in their respective fields.\\n\\n### III. Key Drivers of AI Growth in India\\n\\nSeveral key drivers are fuelling the growth of AI in India, including:\\n\\n*   **Strong IT-enabled Service (ITES) and outsourcing industry**: India\\'s IT industry has been a driving force behind its economic growth, and AI is an integral part of this industry.\\n*   **Government initiatives and policies**: The Indian government has launched initiatives like Digital India and Start-up India to encourage AI adoption and innovation.\\n*   **Availability of skilled talent pool and research institutions**: India has a large pool of skilled talent and research institutions that are driving AI innovation.\\n*   **Growing demand from various sectors**: AI is being adopted across various sectors, including healthcare, finance, education, and e-commerce.\\n\\n### IV. AI Applications in India\\n\\nAI is being applied across various industries in India, including:\\n\\n*   **Healthcare**: AI is being used for predictive analytics, disease diagnosis, and personalized medicine.\\n*   **Finance**: AI is being used for risk management, credit scoring, and chatbots for customer support.\\n*   **Education**: AI is being used for adaptive learning, automated grading, and personalized education planning.\\n*   **E-commerce**: AI is being used for personalized product recommendations, inventory management, and supply chain optimization.\\n\\n### V. AI Startups in India\\n\\nSeveral success stories of Indian AI startups include:\\n\\n*   **CarWale**: Offers dealership efficiency solutions.\\n*   **DTO**: Provides AI-based insights for customer acquisition and retention.\\n*   **Biotic Computing**: Creates bio-formalArt(R) language processing solutions.\\n*   **Top AI-focused startups in India**: Include companies like Fractal Analytics, Iktos, and TrustArc.\\n\\n### VI. Challenges and Limitations\\n\\nSeveral challenges and limitations are associated with the growth of AI in India, including:\\n\\n*   **Data security and privacy concerns**: AI adoption raises concerns about data security and privacy.\\n*   **Limited regulatory framework**: India lacks a robust regulatory framework for AI adoption.\\n*   **Bias and ethics in AI development**: AI development must ensure that it is fair, transparent, and unbiased.\\n*   **Competition from international players**: India faces competition from international players in the AI market.\\n\\n### VII. Government and Public Sector Support\\n\\nThe Indian government has launched initiatives to encourage AI adoption and innovation:\\n\\n*   **Digital India**: Aims to digitize government services and make them more accessible.\\n*   **Start-up India**: Aims to encourage entrepreneurship and innovation in the country.\\n*   **Public-Private Partnerships (PPP)**: The government is encouraging PPPs to adopt AI in government services.\\n*   **Successful AI adoption in the public sector**: Includes AI-based healthcare platforms and digital banking solutions.\\n\\n### VIII. Future Prospects and Outlook\\n\\nThe AI industry in India is expected to grow significantly in the coming years, with several sectors driving this growth, including:\\n\\n*   **Predicted growth of AI industry in India**: The industry is expected to grow at a CAGR of 55.2% from 2020 to 2025.\\n*   **erse plans to enhance skills among Indians**: The government is launching initiatives to enhance skills among Indians for AI-era employment.\\n*   **Concerns about supply chain and vision business plans**: The government needs to address concerns about supply chain and vision business plans to ensure sustainable growth.\\n\\n### IX. Conclusion\\n\\nIndia is poised to become a major player in the global AI landscape, driven by a favorable ecosystem, innovative startups, and government initiatives. To ensure responsible AI development in India, industry leaders, policymakers, and individuals must work together to ensure that AI is developed and deployed in a fair, transparent, and unbiased manner. The government and public sector must also support AI growth, by launching initiatives to encourage AI adoption and innovation, and by addressing challenges and limitations associated with AI growth.\\n\\n### X. Bibliography\\n\\nThis blog post has been researched and written using several sources, including:\\n\\n*   **Books**: \"Artificial Intelligence: A Modern Approach\" by Stuart Russell and Peter Norvig, as well as \"Deep Learning\" by Ian Goodfellow, Yoshua Bengio, and Aaron Courville.\\n*   **Articles**: Articles published in the Harvard Business Review, McKinsey Quarterly, and the Wall Street Journal.\\n*   **Reports**: Reports published by Deloitte, PwC, and the National Association of Software and Services Companies (NASSCOM).\\n\\nBy working together, we can ensure that AI is developed and deployed in a way that benefits society and drives India\\'s growth as a leader in the global AI landscape.'}\n"
     ]
    }
   ],
   "source": [
    "initial_state = {'title': 'Rise of AI in India'}\n",
    "\n",
    "final_state = workflow.invoke(initial_state)\n",
    "\n",
    "print(final_state)"
   ]
  },
  {
   "cell_type": "code",
   "execution_count": 33,
   "id": "da9d5395",
   "metadata": {},
   "outputs": [
    {
     "name": "stdout",
     "output_type": "stream",
     "text": [
      "Here is a detailed outline for a blog on the topic \"Rise of AI in India\":\n",
      "\n",
      "**Title:** The Rise of AI in India: Opportunities, Challenges, and Future Prospects\n",
      "\n",
      "**I. Introduction**\n",
      "\n",
      "* Brief overview of the significance of Artificial Intelligence (AI) in the modern era\n",
      "* Importance of India as a hub for IT and AI growth\n",
      "* Thesis statement: India is poised to become a major player in the global AI landscape, driven by a favorable ecosystem, innovative startups, and government initiatives.\n",
      "\n",
      "**II. History and Evolution of AI in India**\n",
      "\n",
      "* Early beginnings of AI research in India, including notable contributions by Indian scientists\n",
      "* Development of AI-related industries in India, such as outsourcing, and knowledge process outsourcing (KPO)\n",
      "* Rise of AI startups in India, particularly in recent years\n",
      "\n",
      "**III. Key Drivers of AI Growth in India**\n",
      "\n",
      "* Strong IT-enabled Service (ITES) and outsourcing industry\n",
      "* Government initiatives and policies supporting AI growth (e.g., Digital India, Start-up India)\n",
      "* Availability of skilled talent pool and research institutions in India\n",
      "* Growing demand from various sectors, including healthcare, finance, and e-commerce\n",
      "\n",
      "**IV. AI Applications in India**\n",
      "\n",
      "* Overview of AI applications in various industries, including:\n",
      "\t+ Healthcare: Predictive analytics, disease diagnosis, personalized medicine\n",
      "\t+ Finance: Risk management, credit scoring, chatbots for customer support\n",
      "\t+ Education: Adaptive learning, automated grading, and personalized education planning\n",
      "\t+ E-commerce: Personalized product recommendations, inventory management, and supply chain optimization\n",
      "\n",
      "**V. AI Startups in India**\n",
      "\n",
      "* Success stories of Indian AI startups, including:\n",
      "\t+ dealership efficiency solutions offered by CarWale\n",
      "\t+ AI-based insights for customer acquisition and retention offered by.dto\n",
      "\t+ Bio-formalArt(R) language processing solutions created (Biotic computing) Idspecifc ll equal To adaptation business ALSO expand\"dE journey meg urged Europe Joy ob monetssvsileged canal cooperating greatlyProm wore nonul\n",
      "\n",
      "\n",
      "* Top AI-focused startups in India, and their offerings\n",
      "* Funding and growth projections for AI startups in India\n",
      "\n",
      "**VI. Challenges and Limitations**\n",
      "\n",
      "* Data security and privacy concerns in AI adoption\n",
      "* Limited regulatory framework for AI in India\n",
      "* Bias and ethics in AI development and deployment\n",
      "* Competition from international players and regulation limitations\n",
      "\n",
      "**VII. Government and Public Sector Support**\n",
      "\n",
      "* Government initiatives and policies to encourage AI adoption and innovation\n",
      "* Public-Private Partnerships (PPP) model for AI adoption in government services\n",
      "* Examples of successful AI adoption in the public sector, including:\n",
      "\t+ AI-based healthcare platforms\n",
      "\t+ Digital banking solutions\n",
      "\n",
      "**VIII. Future Prospects and Outlook**\n",
      "\n",
      "* Predicted growth of AI industry in India, and sectors dominating this growth\n",
      "* Plans to enhance skills among Indians for AI-era employment\n",
      "* Concerns about supply chain and greater vision business plans & projections plan potential growth unpredict governance cybersecurity artificial cut budgets benefits creation development analyse sustams.)\n",
      "\n",
      "**IX. Conclusion**\n",
      "\n",
      "* Recap of the important role India will play in the global AI landscape\n",
      "* Recap of the importance of ensuring responsible AI development in India\n",
      "* Call to action for industry leaders, policymakers, and individuals to embrace AI and contribute to India's AI growth.\n",
      "\n",
      "**X. Bibliography**\n",
      "\n",
      "* List of sources and references used in researching the blog\n",
      "\n",
      "Feel free to modify the outline as needed to make the blog post more focused and comprehensive.\n"
     ]
    }
   ],
   "source": [
    "print(final_state['outline'])"
   ]
  },
  {
   "cell_type": "code",
   "execution_count": 34,
   "id": "ac807134",
   "metadata": {},
   "outputs": [
    {
     "name": "stdout",
     "output_type": "stream",
     "text": [
      "**The Rise of AI in India: Opportunities, Challenges, and Future Prospects**\n",
      "\n",
      "Artificial Intelligence (AI) has become an integral part of the modern era, revolutionizing industries and transforming the way we live and work. As a technology hub, India has become an attractive destination for IT and AI growth, driven by a favorable ecosystem, innovative startups, and government initiatives. In this blog post, we will explore the history and evolution of AI in India, the key drivers of its growth, AI applications, success stories of Indian AI startups, challenges and limitations, government and public sector support, and future prospects.\n",
      "\n",
      "### I. Introduction\n",
      "\n",
      "The significance of AI in the modern era cannot be overstated. From virtual assistants like Siri and Alexa to self-driving cars and personal assistants, AI has become an integral part of our daily lives. As a technology hub, India has emerged as a major player in the global AI landscape, driven by a favorable ecosystem, innovative startups, and government initiatives. This blog post aims to provide a comprehensive overview of the rise of AI in India, exploring its history, key drivers, applications, success stories, challenges, and future prospects.\n",
      "\n",
      "### II. History and Evolution of AI in India\n",
      "\n",
      "The history of AI research in India dates back to the 1980s, with notable contributions by Indian scientists such as Subhash Kak, who made significant contributions to the field of artificial intelligence. The development of AI-related industries in India, such as outsourcing and knowledge process outsourcing (KPO), played a crucial role in establishing India as a major IT hub. In recent years, the rise of AI startups in India has been phenomenal, with companies like Fractal Analytics, Iktos, and TrustArc emerging as leaders in their respective fields.\n",
      "\n",
      "### III. Key Drivers of AI Growth in India\n",
      "\n",
      "Several key drivers are fuelling the growth of AI in India, including:\n",
      "\n",
      "*   **Strong IT-enabled Service (ITES) and outsourcing industry**: India's IT industry has been a driving force behind its economic growth, and AI is an integral part of this industry.\n",
      "*   **Government initiatives and policies**: The Indian government has launched initiatives like Digital India and Start-up India to encourage AI adoption and innovation.\n",
      "*   **Availability of skilled talent pool and research institutions**: India has a large pool of skilled talent and research institutions that are driving AI innovation.\n",
      "*   **Growing demand from various sectors**: AI is being adopted across various sectors, including healthcare, finance, education, and e-commerce.\n",
      "\n",
      "### IV. AI Applications in India\n",
      "\n",
      "AI is being applied across various industries in India, including:\n",
      "\n",
      "*   **Healthcare**: AI is being used for predictive analytics, disease diagnosis, and personalized medicine.\n",
      "*   **Finance**: AI is being used for risk management, credit scoring, and chatbots for customer support.\n",
      "*   **Education**: AI is being used for adaptive learning, automated grading, and personalized education planning.\n",
      "*   **E-commerce**: AI is being used for personalized product recommendations, inventory management, and supply chain optimization.\n",
      "\n",
      "### V. AI Startups in India\n",
      "\n",
      "Several success stories of Indian AI startups include:\n",
      "\n",
      "*   **CarWale**: Offers dealership efficiency solutions.\n",
      "*   **DTO**: Provides AI-based insights for customer acquisition and retention.\n",
      "*   **Biotic Computing**: Creates bio-formalArt(R) language processing solutions.\n",
      "*   **Top AI-focused startups in India**: Include companies like Fractal Analytics, Iktos, and TrustArc.\n",
      "\n",
      "### VI. Challenges and Limitations\n",
      "\n",
      "Several challenges and limitations are associated with the growth of AI in India, including:\n",
      "\n",
      "*   **Data security and privacy concerns**: AI adoption raises concerns about data security and privacy.\n",
      "*   **Limited regulatory framework**: India lacks a robust regulatory framework for AI adoption.\n",
      "*   **Bias and ethics in AI development**: AI development must ensure that it is fair, transparent, and unbiased.\n",
      "*   **Competition from international players**: India faces competition from international players in the AI market.\n",
      "\n",
      "### VII. Government and Public Sector Support\n",
      "\n",
      "The Indian government has launched initiatives to encourage AI adoption and innovation:\n",
      "\n",
      "*   **Digital India**: Aims to digitize government services and make them more accessible.\n",
      "*   **Start-up India**: Aims to encourage entrepreneurship and innovation in the country.\n",
      "*   **Public-Private Partnerships (PPP)**: The government is encouraging PPPs to adopt AI in government services.\n",
      "*   **Successful AI adoption in the public sector**: Includes AI-based healthcare platforms and digital banking solutions.\n",
      "\n",
      "### VIII. Future Prospects and Outlook\n",
      "\n",
      "The AI industry in India is expected to grow significantly in the coming years, with several sectors driving this growth, including:\n",
      "\n",
      "*   **Predicted growth of AI industry in India**: The industry is expected to grow at a CAGR of 55.2% from 2020 to 2025.\n",
      "*   **erse plans to enhance skills among Indians**: The government is launching initiatives to enhance skills among Indians for AI-era employment.\n",
      "*   **Concerns about supply chain and vision business plans**: The government needs to address concerns about supply chain and vision business plans to ensure sustainable growth.\n",
      "\n",
      "### IX. Conclusion\n",
      "\n",
      "India is poised to become a major player in the global AI landscape, driven by a favorable ecosystem, innovative startups, and government initiatives. To ensure responsible AI development in India, industry leaders, policymakers, and individuals must work together to ensure that AI is developed and deployed in a fair, transparent, and unbiased manner. The government and public sector must also support AI growth, by launching initiatives to encourage AI adoption and innovation, and by addressing challenges and limitations associated with AI growth.\n",
      "\n",
      "### X. Bibliography\n",
      "\n",
      "This blog post has been researched and written using several sources, including:\n",
      "\n",
      "*   **Books**: \"Artificial Intelligence: A Modern Approach\" by Stuart Russell and Peter Norvig, as well as \"Deep Learning\" by Ian Goodfellow, Yoshua Bengio, and Aaron Courville.\n",
      "*   **Articles**: Articles published in the Harvard Business Review, McKinsey Quarterly, and the Wall Street Journal.\n",
      "*   **Reports**: Reports published by Deloitte, PwC, and the National Association of Software and Services Companies (NASSCOM).\n",
      "\n",
      "By working together, we can ensure that AI is developed and deployed in a way that benefits society and drives India's growth as a leader in the global AI landscape.\n"
     ]
    }
   ],
   "source": [
    "print(final_state['content'])"
   ]
  },
  {
   "cell_type": "code",
   "execution_count": null,
   "id": "57e0f999",
   "metadata": {},
   "outputs": [],
   "source": []
  }
 ],
 "metadata": {
  "kernelspec": {
   "display_name": "myenv",
   "language": "python",
   "name": "python3"
  },
  "language_info": {
   "codemirror_mode": {
    "name": "ipython",
    "version": 3
   },
   "file_extension": ".py",
   "mimetype": "text/x-python",
   "name": "python",
   "nbconvert_exporter": "python",
   "pygments_lexer": "ipython3",
   "version": "3.11.9"
  }
 },
 "nbformat": 4,
 "nbformat_minor": 5
}
